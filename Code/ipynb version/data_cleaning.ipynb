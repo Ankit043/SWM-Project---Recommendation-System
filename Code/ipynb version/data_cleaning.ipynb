{
 "cells": [
  {
   "cell_type": "code",
   "execution_count": 8,
   "metadata": {},
   "outputs": [
    {
     "name": "stdout",
     "output_type": "stream",
     "text": [
      "1000209 ratings loaded\n",
      "Saved to ml1m_ratings.csv\n",
      "6040 descriptions of 6040 users loaded.\n",
      "Saved to ml1m_users.csv\n",
      "3883 descriptions of 3952 movies loaded.\n",
      "Saved to ml1m_movies.csv\n"
     ]
    }
   ],
   "source": [
    "#finding max user id,max movie id\n",
    "#user emb id=user id -1,same for movie emb id\n",
    "\n",
    "\n",
    "BASE_DIR = '.' \n",
    "MOVIELENS_DIR = BASE_DIR + '/Data/'\n",
    "USER_DATA_FILE = 'users.dat'\n",
    "MOVIE_DATA_FILE = 'movies.dat'\n",
    "RATING_DATA_FILE = 'ratings.dat'\n",
    "AGES = { 1: \"Under 18\", 18: \"18-24\", 25: \"25-34\", 35: \"35-44\", 45: \"45-49\", 50: \"50-55\", 56: \"56+\" }\n",
    "OCCUPATIONS = { 0: \"other or not specified\", 1: \"academic/educator\", 2: \"artist\", 3: \"clerical/admin\",\n",
    "                4: \"college/grad student\", 5: \"customer service\", 6: \"doctor/health care\",\n",
    "                7: \"executive/managerial\", 8: \"farmer\", 9: \"homemaker\", 10: \"K-12 student\", 11: \"lawyer\",\n",
    "                12: \"programmer\", 13: \"retired\", 14: \"sales/marketing\", 15: \"scientist\", 16: \"self-employed\",\n",
    "                17: \"technician/engineer\", 18: \"tradesman/craftsman\", 19: \"unemployed\", 20: \"writer\" }\n",
    "RATINGS = 'ml1m_ratings.csv'\n",
    "USERS = 'ml1m_users.csv'\n",
    "MOVIES = 'ml1m_movies.csv'\n",
    "\n",
    "\n",
    "ratings = pd.read_csv(os.path.join(MOVIELENS_DIR, RATING_DATA_FILE), \n",
    "                    sep='::', \n",
    "                    engine='python', \n",
    "                    encoding='latin-1',\n",
    "                    names=['userid', 'movieid', 'rating', 'timestamp'])\n",
    "max_userid = ratings['userid'].drop_duplicates().max()\n",
    "max_movieid = ratings['movieid'].drop_duplicates().max()\n",
    "ratings['user_emb_id'] = ratings['userid'] - 1\n",
    "ratings['movie_emb_id'] = ratings['movieid'] - 1\n",
    "print (len(ratings), 'ratings loaded')\n",
    "ratings.to_csv(RATINGS, \n",
    "               sep='\\t', \n",
    "               header=True, \n",
    "               encoding='latin-1', \n",
    "               columns=['userid', 'movieid', 'rating', 'timestamp', 'user_emb_id', 'movie_emb_id'])\n",
    "print ('Saved to', RATINGS)\n",
    "\n",
    "\n",
    "\n",
    "\n",
    "users = pd.read_csv(os.path.join(MOVIELENS_DIR, USER_DATA_FILE), \n",
    "                    sep='::', \n",
    "                    engine='python', \n",
    "                    encoding='latin-1',\n",
    "                    names=['userid', 'gender', 'age', 'occupation', 'zipcode'])\n",
    "users['age_desc'] = users['age'].apply(lambda x: AGES[x])\n",
    "users['occ_desc'] = users['occupation'].apply(lambda x: OCCUPATIONS[x])\n",
    "print (len(users), 'descriptions of', max_userid, 'users loaded.')\n",
    "users.to_csv(USERS, \n",
    "             sep='\\t', \n",
    "             header=True, \n",
    "             encoding='latin-1',\n",
    "             columns=['userid', 'gender', 'age', 'occupation', 'zipcode', 'age_desc', 'occ_desc'])\n",
    "print ('Saved to', USERS)\n",
    "\n",
    "\n",
    "\n",
    "movies = pd.read_csv(os.path.join(MOVIELENS_DIR, MOVIE_DATA_FILE), \n",
    "                    sep='::', \n",
    "                    engine='python', \n",
    "                    encoding='latin-1',\n",
    "                    names=['movieid', 'title', 'genre'])\n",
    "print (len(movies), 'descriptions of', max_movieid, 'movies loaded.')\n",
    "movies.to_csv(MOVIES, \n",
    "              sep='\\t', \n",
    "              header=True, \n",
    "              columns=['movieid', 'title', 'genre'])\n",
    "print( 'Saved to', MOVIES)"
   ]
  }
 ],
 "metadata": {
  "kernelspec": {
   "display_name": "Python 3",
   "language": "python",
   "name": "python3"
  },
  "language_info": {
   "codemirror_mode": {
    "name": "ipython",
    "version": 3
   },
   "file_extension": ".py",
   "mimetype": "text/x-python",
   "name": "python",
   "nbconvert_exporter": "python",
   "pygments_lexer": "ipython3",
   "version": "3.7.3"
  }
 },
 "nbformat": 4,
 "nbformat_minor": 2
}
